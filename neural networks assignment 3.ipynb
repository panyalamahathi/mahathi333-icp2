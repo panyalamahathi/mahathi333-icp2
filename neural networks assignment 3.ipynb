{
 "cells": [
  {
   "cell_type": "code",
   "execution_count": 3,
   "id": "dfbb5b9f",
   "metadata": {},
   "outputs": [
    {
     "name": "stdout",
     "output_type": "stream",
     "text": [
      "enter number of employees4\n",
      "enter namemahathi\n",
      "enter how many family members4\n",
      "enter salary98666\n",
      "enter departmentcivil\n",
      "enter namedinesh\n",
      "enter how many family members4\n",
      "enter salary98756\n",
      "enter departmentIT\n",
      "enter namepravallika\n",
      "enter how many family members5\n",
      "enter salary108755\n",
      "enter departmentmech\n",
      "enter namekuslu\n",
      "enter how many family members6\n",
      "enter salary115444\n",
      "enter departmentcse\n",
      "enter Full time employees3\n",
      "enter nameX\n",
      "enter how many family members2\n",
      "enter salary98850\n",
      "enter departmentIT\n",
      "enter nameY\n",
      "enter how many family members2\n",
      "enter salary98765\n",
      "enter departmentECE\n",
      "enter nameZ\n",
      "enter how many family members3\n",
      "enter salary96543\n",
      "enter departmentIT\n",
      "The total Number of Employees(employee+Fulltime employee): 7\n",
      "the average salary of the all the Employees(employee+Fulltime employee): 357889.5\n"
     ]
    }
   ],
   "source": [
    "class Employee: \n",
    "  def __init__(self):  #constructor for name,family,salary and Department.\n",
    "        self.name =\"mahathi \" \n",
    "        self.family =6 \n",
    "        self.salary=98665 \n",
    "        self.department=\"civil\" \n",
    "  def __init__(self,name,family,salary,department): \n",
    "        self.name =name \n",
    "        self.family =family \n",
    "        self.salary=salary \n",
    "        self.department=department \n",
    "        \n",
    "  def count_emp(self,emp1,fullemp1): \n",
    "        print(\"The total Number of Employees(employee+Fulltime employee):\",len(emp1+fullemp1)) #counting number of employees.\n",
    "        \n",
    "  def avg_salary(self,emp1,fullemp1):  #calculating the average salaryof all employees.\n",
    "       su=0 \n",
    "       for i in emp1: \n",
    "           su=su+i.salary \n",
    "       for i in fullemp1: \n",
    "            su=su+i.salary \n",
    "       print(\"the average salary of the all the Employees(employee+Fulltime employee):\",su/2) \n",
    "        \n",
    "class Fulltime_Employee(Employee): \n",
    "    pass \n",
    "n=int(input(\"enter number of employees\")) \n",
    "pe=[] \n",
    "for i in range(0,n):  \n",
    "    na=input(\"enter name\") \n",
    "    f=int(input(\"enter how many family members\")) \n",
    "    s=int(input(\"enter salary\")) \n",
    "    d=input(\"enter department\") \n",
    "    obj=Employee(na,f,s,d) \n",
    "    pe.append(obj) \n",
    "full=int(input(\"enter Full time employees\")) \n",
    "fe=[] \n",
    "for i in range(0,full): \n",
    "    na=input(\"enter name\") \n",
    "    f=int(input(\"enter how many family members\")) \n",
    "    s=int(input(\"enter salary\")) \n",
    "    d=input(\"enter department\") \n",
    "    obj=Fulltime_Employee(na,f,s,d) \n",
    "    fe.append(obj) \n",
    "    \n",
    "result=Fulltime_Employee(na,f,s,d)  \n",
    "result.count_emp(pe,fe) #function call\n",
    "result.avg_salary(pe,fe) #function call"
   ]
  },
  {
   "cell_type": "code",
   "execution_count": 5,
   "id": "79852d1c",
   "metadata": {},
   "outputs": [
    {
     "name": "stdout",
     "output_type": "stream",
     "text": [
      "Vector : [ 1.  2.  3.  4.  5.  6.  7.  8.  9. 10. 11. 12. 13. 14. 15. 16. 17. 18.\n",
      " 19. 20.]\n",
      "Then reshape the array to 4 by 5: [[ 1.  2.  3.  4.  5.]\n",
      " [ 6.  7.  8.  9. 10.]\n",
      " [11. 12. 13. 14. 15.]\n",
      " [16. 17. 18. 19. 20.]]\n",
      "replace the max in each row by 0 (axis=1): [[ 1.  2.  3.  4.  0.]\n",
      " [ 6.  7.  8.  9.  0.]\n",
      " [11. 12. 13. 14.  0.]\n",
      " [16. 17. 18. 19.  0.]]\n"
     ]
    }
   ],
   "source": [
    "\n",
    "import numpy as np #import numpy\n",
    "x = np.arange(1,21,dtype=float) #vector of size 1-20\n",
    "print(\"Vector :\",x) \n",
    "x=x.reshape(4,5)\n",
    "print(\"Then reshape the array to 4 by 5:\",x) \n",
    "def replace(x): \n",
    "    a=x \n",
    "    a[:,np.argmax(x, axis=1)] = 0 \n",
    "    return a \n",
    "result= replace(x) \n",
    "print(\"replace the max in each row by 0 (axis=1):\",result)"
   ]
  },
  {
   "cell_type": "code",
   "execution_count": null,
   "id": "ed3c17bf",
   "metadata": {},
   "outputs": [],
   "source": []
  }
 ],
 "metadata": {
  "kernelspec": {
   "display_name": "Python 3 (ipykernel)",
   "language": "python",
   "name": "python3"
  },
  "language_info": {
   "codemirror_mode": {
    "name": "ipython",
    "version": 3
   },
   "file_extension": ".py",
   "mimetype": "text/x-python",
   "name": "python",
   "nbconvert_exporter": "python",
   "pygments_lexer": "ipython3",
   "version": "3.10.6"
  }
 },
 "nbformat": 4,
 "nbformat_minor": 5
}
